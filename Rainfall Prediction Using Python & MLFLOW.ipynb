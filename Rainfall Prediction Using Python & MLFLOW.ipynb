{
 "cells": [
  {
   "cell_type": "code",
   "execution_count": 16,
   "id": "79c2518b",
   "metadata": {},
   "outputs": [],
   "source": [
    "import pandas as pd\n",
    "import numpy as np\n",
    "import matplotlib.pyplot as plt\n",
    "import seaborn as sns\n",
    "sns.set(style=\"whitegrid\")\n",
    "plt.style.use(\"fivethirtyeight\")"
   ]
  },
  {
   "cell_type": "code",
   "execution_count": 17,
   "id": "29299ecd",
   "metadata": {},
   "outputs": [],
   "source": [
    "df = pd.read_csv(\"Rainfall.csv\")"
   ]
  },
  {
   "cell_type": "code",
   "execution_count": 18,
   "id": "2a76a857",
   "metadata": {},
   "outputs": [
    {
     "data": {
      "text/html": [
       "<div>\n",
       "<style scoped>\n",
       "    .dataframe tbody tr th:only-of-type {\n",
       "        vertical-align: middle;\n",
       "    }\n",
       "\n",
       "    .dataframe tbody tr th {\n",
       "        vertical-align: top;\n",
       "    }\n",
       "\n",
       "    .dataframe thead th {\n",
       "        text-align: right;\n",
       "    }\n",
       "</style>\n",
       "<table border=\"1\" class=\"dataframe\">\n",
       "  <thead>\n",
       "    <tr style=\"text-align: right;\">\n",
       "      <th></th>\n",
       "      <th>day</th>\n",
       "      <th>pressure</th>\n",
       "      <th>maxtemp</th>\n",
       "      <th>temparature</th>\n",
       "      <th>mintemp</th>\n",
       "      <th>dewpoint</th>\n",
       "      <th>humidity</th>\n",
       "      <th>cloud</th>\n",
       "      <th>rainfall</th>\n",
       "      <th>sunshine</th>\n",
       "      <th>winddirection</th>\n",
       "      <th>windspeed</th>\n",
       "    </tr>\n",
       "  </thead>\n",
       "  <tbody>\n",
       "    <tr>\n",
       "      <th>0</th>\n",
       "      <td>1</td>\n",
       "      <td>1025.9</td>\n",
       "      <td>19.9</td>\n",
       "      <td>18.3</td>\n",
       "      <td>16.8</td>\n",
       "      <td>13.1</td>\n",
       "      <td>72</td>\n",
       "      <td>49</td>\n",
       "      <td>yes</td>\n",
       "      <td>9.3</td>\n",
       "      <td>80.0</td>\n",
       "      <td>26.3</td>\n",
       "    </tr>\n",
       "    <tr>\n",
       "      <th>1</th>\n",
       "      <td>2</td>\n",
       "      <td>1022.0</td>\n",
       "      <td>21.7</td>\n",
       "      <td>18.9</td>\n",
       "      <td>17.2</td>\n",
       "      <td>15.6</td>\n",
       "      <td>81</td>\n",
       "      <td>83</td>\n",
       "      <td>yes</td>\n",
       "      <td>0.6</td>\n",
       "      <td>50.0</td>\n",
       "      <td>15.3</td>\n",
       "    </tr>\n",
       "    <tr>\n",
       "      <th>2</th>\n",
       "      <td>3</td>\n",
       "      <td>1019.7</td>\n",
       "      <td>20.3</td>\n",
       "      <td>19.3</td>\n",
       "      <td>18.0</td>\n",
       "      <td>18.4</td>\n",
       "      <td>95</td>\n",
       "      <td>91</td>\n",
       "      <td>yes</td>\n",
       "      <td>0.0</td>\n",
       "      <td>40.0</td>\n",
       "      <td>14.2</td>\n",
       "    </tr>\n",
       "    <tr>\n",
       "      <th>3</th>\n",
       "      <td>4</td>\n",
       "      <td>1018.9</td>\n",
       "      <td>22.3</td>\n",
       "      <td>20.6</td>\n",
       "      <td>19.1</td>\n",
       "      <td>18.8</td>\n",
       "      <td>90</td>\n",
       "      <td>88</td>\n",
       "      <td>yes</td>\n",
       "      <td>1.0</td>\n",
       "      <td>50.0</td>\n",
       "      <td>16.9</td>\n",
       "    </tr>\n",
       "    <tr>\n",
       "      <th>4</th>\n",
       "      <td>5</td>\n",
       "      <td>1015.9</td>\n",
       "      <td>21.3</td>\n",
       "      <td>20.7</td>\n",
       "      <td>20.2</td>\n",
       "      <td>19.9</td>\n",
       "      <td>95</td>\n",
       "      <td>81</td>\n",
       "      <td>yes</td>\n",
       "      <td>0.0</td>\n",
       "      <td>40.0</td>\n",
       "      <td>13.7</td>\n",
       "    </tr>\n",
       "  </tbody>\n",
       "</table>\n",
       "</div>"
      ],
      "text/plain": [
       "   day  pressure   maxtemp  temparature  mintemp  dewpoint  humidity   cloud   \\\n",
       "0    1     1025.9     19.9         18.3     16.8      13.1         72      49   \n",
       "1    2     1022.0     21.7         18.9     17.2      15.6         81      83   \n",
       "2    3     1019.7     20.3         19.3     18.0      18.4         95      91   \n",
       "3    4     1018.9     22.3         20.6     19.1      18.8         90      88   \n",
       "4    5     1015.9     21.3         20.7     20.2      19.9         95      81   \n",
       "\n",
       "  rainfall  sunshine           winddirection  windspeed  \n",
       "0      yes       9.3                    80.0       26.3  \n",
       "1      yes       0.6                    50.0       15.3  \n",
       "2      yes       0.0                    40.0       14.2  \n",
       "3      yes       1.0                    50.0       16.9  \n",
       "4      yes       0.0                    40.0       13.7  "
      ]
     },
     "execution_count": 18,
     "metadata": {},
     "output_type": "execute_result"
    }
   ],
   "source": [
    "df.head()"
   ]
  },
  {
   "cell_type": "code",
   "execution_count": 19,
   "id": "04925573",
   "metadata": {},
   "outputs": [
    {
     "data": {
      "text/plain": [
       "array(['yes', 'no'], dtype=object)"
      ]
     },
     "execution_count": 19,
     "metadata": {},
     "output_type": "execute_result"
    }
   ],
   "source": [
    "df['rainfall'].unique()"
   ]
  },
  {
   "cell_type": "code",
   "execution_count": 20,
   "id": "9bab16d2",
   "metadata": {},
   "outputs": [
    {
     "data": {
      "text/plain": [
       "(366, 12)"
      ]
     },
     "execution_count": 20,
     "metadata": {},
     "output_type": "execute_result"
    }
   ],
   "source": [
    "df.shape"
   ]
  },
  {
   "cell_type": "code",
   "execution_count": 21,
   "id": "39395425",
   "metadata": {},
   "outputs": [
    {
     "data": {
      "text/plain": [
       "array([ 1,  2,  3,  4,  5,  6,  7,  8,  9, 10, 11, 12, 13, 14, 15, 16, 17,\n",
       "       18, 19, 20, 21, 22, 23, 24, 25, 26, 27, 28, 29, 30, 31],\n",
       "      dtype=int64)"
      ]
     },
     "execution_count": 21,
     "metadata": {},
     "output_type": "execute_result"
    }
   ],
   "source": [
    "df['day'].unique()"
   ]
  },
  {
   "cell_type": "code",
   "execution_count": 22,
   "id": "802acbc3",
   "metadata": {},
   "outputs": [
    {
     "data": {
      "text/html": [
       "<div>\n",
       "<style scoped>\n",
       "    .dataframe tbody tr th:only-of-type {\n",
       "        vertical-align: middle;\n",
       "    }\n",
       "\n",
       "    .dataframe tbody tr th {\n",
       "        vertical-align: top;\n",
       "    }\n",
       "\n",
       "    .dataframe thead th {\n",
       "        text-align: right;\n",
       "    }\n",
       "</style>\n",
       "<table border=\"1\" class=\"dataframe\">\n",
       "  <thead>\n",
       "    <tr style=\"text-align: right;\">\n",
       "      <th></th>\n",
       "      <th>count</th>\n",
       "      <th>mean</th>\n",
       "      <th>std</th>\n",
       "      <th>min</th>\n",
       "      <th>25%</th>\n",
       "      <th>50%</th>\n",
       "      <th>75%</th>\n",
       "      <th>max</th>\n",
       "    </tr>\n",
       "  </thead>\n",
       "  <tbody>\n",
       "    <tr>\n",
       "      <th>day</th>\n",
       "      <td>366.0</td>\n",
       "      <td>15.756831</td>\n",
       "      <td>8.823592</td>\n",
       "      <td>1.0</td>\n",
       "      <td>8.000</td>\n",
       "      <td>16.00</td>\n",
       "      <td>23.000</td>\n",
       "      <td>31.0</td>\n",
       "    </tr>\n",
       "    <tr>\n",
       "      <th>pressure</th>\n",
       "      <td>366.0</td>\n",
       "      <td>1013.742623</td>\n",
       "      <td>6.414776</td>\n",
       "      <td>998.5</td>\n",
       "      <td>1008.500</td>\n",
       "      <td>1013.00</td>\n",
       "      <td>1018.100</td>\n",
       "      <td>1034.6</td>\n",
       "    </tr>\n",
       "    <tr>\n",
       "      <th>maxtemp</th>\n",
       "      <td>366.0</td>\n",
       "      <td>26.191257</td>\n",
       "      <td>5.978343</td>\n",
       "      <td>7.1</td>\n",
       "      <td>21.200</td>\n",
       "      <td>27.75</td>\n",
       "      <td>31.200</td>\n",
       "      <td>36.3</td>\n",
       "    </tr>\n",
       "    <tr>\n",
       "      <th>temparature</th>\n",
       "      <td>366.0</td>\n",
       "      <td>23.747268</td>\n",
       "      <td>5.632813</td>\n",
       "      <td>4.9</td>\n",
       "      <td>18.825</td>\n",
       "      <td>25.45</td>\n",
       "      <td>28.600</td>\n",
       "      <td>32.4</td>\n",
       "    </tr>\n",
       "    <tr>\n",
       "      <th>mintemp</th>\n",
       "      <td>366.0</td>\n",
       "      <td>21.894536</td>\n",
       "      <td>5.594153</td>\n",
       "      <td>3.1</td>\n",
       "      <td>17.125</td>\n",
       "      <td>23.70</td>\n",
       "      <td>26.575</td>\n",
       "      <td>30.0</td>\n",
       "    </tr>\n",
       "    <tr>\n",
       "      <th>dewpoint</th>\n",
       "      <td>366.0</td>\n",
       "      <td>19.989071</td>\n",
       "      <td>5.997021</td>\n",
       "      <td>-0.4</td>\n",
       "      <td>16.125</td>\n",
       "      <td>21.95</td>\n",
       "      <td>25.000</td>\n",
       "      <td>26.7</td>\n",
       "    </tr>\n",
       "    <tr>\n",
       "      <th>humidity</th>\n",
       "      <td>366.0</td>\n",
       "      <td>80.177596</td>\n",
       "      <td>10.062470</td>\n",
       "      <td>36.0</td>\n",
       "      <td>75.000</td>\n",
       "      <td>80.50</td>\n",
       "      <td>87.000</td>\n",
       "      <td>98.0</td>\n",
       "    </tr>\n",
       "    <tr>\n",
       "      <th>cloud</th>\n",
       "      <td>366.0</td>\n",
       "      <td>71.128415</td>\n",
       "      <td>21.798012</td>\n",
       "      <td>0.0</td>\n",
       "      <td>58.000</td>\n",
       "      <td>80.00</td>\n",
       "      <td>88.000</td>\n",
       "      <td>100.0</td>\n",
       "    </tr>\n",
       "    <tr>\n",
       "      <th>sunshine</th>\n",
       "      <td>366.0</td>\n",
       "      <td>4.419399</td>\n",
       "      <td>3.934398</td>\n",
       "      <td>0.0</td>\n",
       "      <td>0.500</td>\n",
       "      <td>3.50</td>\n",
       "      <td>8.200</td>\n",
       "      <td>12.1</td>\n",
       "    </tr>\n",
       "    <tr>\n",
       "      <th>winddirection</th>\n",
       "      <td>365.0</td>\n",
       "      <td>101.506849</td>\n",
       "      <td>81.723724</td>\n",
       "      <td>10.0</td>\n",
       "      <td>40.000</td>\n",
       "      <td>70.00</td>\n",
       "      <td>190.000</td>\n",
       "      <td>350.0</td>\n",
       "    </tr>\n",
       "    <tr>\n",
       "      <th>windspeed</th>\n",
       "      <td>365.0</td>\n",
       "      <td>21.536986</td>\n",
       "      <td>10.069712</td>\n",
       "      <td>4.4</td>\n",
       "      <td>13.700</td>\n",
       "      <td>20.50</td>\n",
       "      <td>27.900</td>\n",
       "      <td>59.5</td>\n",
       "    </tr>\n",
       "  </tbody>\n",
       "</table>\n",
       "</div>"
      ],
      "text/plain": [
       "                        count         mean        std    min       25%  \\\n",
       "day                     366.0    15.756831   8.823592    1.0     8.000   \n",
       "pressure                366.0  1013.742623   6.414776  998.5  1008.500   \n",
       "maxtemp                 366.0    26.191257   5.978343    7.1    21.200   \n",
       "temparature             366.0    23.747268   5.632813    4.9    18.825   \n",
       "mintemp                 366.0    21.894536   5.594153    3.1    17.125   \n",
       "dewpoint                366.0    19.989071   5.997021   -0.4    16.125   \n",
       "humidity                366.0    80.177596  10.062470   36.0    75.000   \n",
       "cloud                   366.0    71.128415  21.798012    0.0    58.000   \n",
       "sunshine                366.0     4.419399   3.934398    0.0     0.500   \n",
       "         winddirection  365.0   101.506849  81.723724   10.0    40.000   \n",
       "windspeed               365.0    21.536986  10.069712    4.4    13.700   \n",
       "\n",
       "                            50%       75%     max  \n",
       "day                       16.00    23.000    31.0  \n",
       "pressure                1013.00  1018.100  1034.6  \n",
       "maxtemp                   27.75    31.200    36.3  \n",
       "temparature               25.45    28.600    32.4  \n",
       "mintemp                   23.70    26.575    30.0  \n",
       "dewpoint                  21.95    25.000    26.7  \n",
       "humidity                  80.50    87.000    98.0  \n",
       "cloud                     80.00    88.000   100.0  \n",
       "sunshine                   3.50     8.200    12.1  \n",
       "         winddirection    70.00   190.000   350.0  \n",
       "windspeed                 20.50    27.900    59.5  "
      ]
     },
     "execution_count": 22,
     "metadata": {},
     "output_type": "execute_result"
    }
   ],
   "source": [
    "df.describe().T"
   ]
  },
  {
   "cell_type": "code",
   "execution_count": 23,
   "id": "99efb90a",
   "metadata": {},
   "outputs": [
    {
     "name": "stdout",
     "output_type": "stream",
     "text": [
      "<class 'pandas.core.frame.DataFrame'>\n",
      "RangeIndex: 366 entries, 0 to 365\n",
      "Data columns (total 12 columns):\n",
      " #   Column                  Non-Null Count  Dtype  \n",
      "---  ------                  --------------  -----  \n",
      " 0   day                     366 non-null    int64  \n",
      " 1   pressure                366 non-null    float64\n",
      " 2   maxtemp                 366 non-null    float64\n",
      " 3   temparature             366 non-null    float64\n",
      " 4   mintemp                 366 non-null    float64\n",
      " 5   dewpoint                366 non-null    float64\n",
      " 6   humidity                366 non-null    int64  \n",
      " 7   cloud                   366 non-null    int64  \n",
      " 8   rainfall                366 non-null    object \n",
      " 9   sunshine                366 non-null    float64\n",
      " 10           winddirection  365 non-null    float64\n",
      " 11  windspeed               365 non-null    float64\n",
      "dtypes: float64(8), int64(3), object(1)\n",
      "memory usage: 34.4+ KB\n"
     ]
    }
   ],
   "source": [
    "df.info()"
   ]
  },
  {
   "cell_type": "code",
   "execution_count": 24,
   "id": "09eb4438",
   "metadata": {},
   "outputs": [
    {
     "data": {
      "text/plain": [
       "Index(['day', 'pressure ', 'maxtemp', 'temparature', 'mintemp', 'dewpoint',\n",
       "       'humidity ', 'cloud ', 'rainfall', 'sunshine', '         winddirection',\n",
       "       'windspeed'],\n",
       "      dtype='object')"
      ]
     },
     "execution_count": 24,
     "metadata": {},
     "output_type": "execute_result"
    }
   ],
   "source": [
    "df.columns"
   ]
  },
  {
   "cell_type": "code",
   "execution_count": 26,
   "id": "dfe947c5",
   "metadata": {},
   "outputs": [],
   "source": [
    "df.columns = df.columns.str.strip()"
   ]
  },
  {
   "cell_type": "code",
   "execution_count": 27,
   "id": "49ea7fe5",
   "metadata": {},
   "outputs": [
    {
     "data": {
      "text/plain": [
       "Index(['day', 'pressure', 'maxtemp', 'temparature', 'mintemp', 'dewpoint',\n",
       "       'humidity', 'cloud', 'rainfall', 'sunshine', 'winddirection',\n",
       "       'windspeed'],\n",
       "      dtype='object')"
      ]
     },
     "execution_count": 27,
     "metadata": {},
     "output_type": "execute_result"
    }
   ],
   "source": [
    "df.columns"
   ]
  },
  {
   "cell_type": "code",
   "execution_count": 29,
   "id": "1e9f0512",
   "metadata": {},
   "outputs": [],
   "source": [
    "df = df.drop(columns=['day'])"
   ]
  },
  {
   "cell_type": "code",
   "execution_count": 30,
   "id": "9f988898",
   "metadata": {},
   "outputs": [
    {
     "data": {
      "text/html": [
       "<div>\n",
       "<style scoped>\n",
       "    .dataframe tbody tr th:only-of-type {\n",
       "        vertical-align: middle;\n",
       "    }\n",
       "\n",
       "    .dataframe tbody tr th {\n",
       "        vertical-align: top;\n",
       "    }\n",
       "\n",
       "    .dataframe thead th {\n",
       "        text-align: right;\n",
       "    }\n",
       "</style>\n",
       "<table border=\"1\" class=\"dataframe\">\n",
       "  <thead>\n",
       "    <tr style=\"text-align: right;\">\n",
       "      <th></th>\n",
       "      <th>pressure</th>\n",
       "      <th>maxtemp</th>\n",
       "      <th>temparature</th>\n",
       "      <th>mintemp</th>\n",
       "      <th>dewpoint</th>\n",
       "      <th>humidity</th>\n",
       "      <th>cloud</th>\n",
       "      <th>rainfall</th>\n",
       "      <th>sunshine</th>\n",
       "      <th>winddirection</th>\n",
       "      <th>windspeed</th>\n",
       "    </tr>\n",
       "  </thead>\n",
       "  <tbody>\n",
       "    <tr>\n",
       "      <th>0</th>\n",
       "      <td>1025.9</td>\n",
       "      <td>19.9</td>\n",
       "      <td>18.3</td>\n",
       "      <td>16.8</td>\n",
       "      <td>13.1</td>\n",
       "      <td>72</td>\n",
       "      <td>49</td>\n",
       "      <td>yes</td>\n",
       "      <td>9.3</td>\n",
       "      <td>80.0</td>\n",
       "      <td>26.3</td>\n",
       "    </tr>\n",
       "    <tr>\n",
       "      <th>1</th>\n",
       "      <td>1022.0</td>\n",
       "      <td>21.7</td>\n",
       "      <td>18.9</td>\n",
       "      <td>17.2</td>\n",
       "      <td>15.6</td>\n",
       "      <td>81</td>\n",
       "      <td>83</td>\n",
       "      <td>yes</td>\n",
       "      <td>0.6</td>\n",
       "      <td>50.0</td>\n",
       "      <td>15.3</td>\n",
       "    </tr>\n",
       "    <tr>\n",
       "      <th>2</th>\n",
       "      <td>1019.7</td>\n",
       "      <td>20.3</td>\n",
       "      <td>19.3</td>\n",
       "      <td>18.0</td>\n",
       "      <td>18.4</td>\n",
       "      <td>95</td>\n",
       "      <td>91</td>\n",
       "      <td>yes</td>\n",
       "      <td>0.0</td>\n",
       "      <td>40.0</td>\n",
       "      <td>14.2</td>\n",
       "    </tr>\n",
       "    <tr>\n",
       "      <th>3</th>\n",
       "      <td>1018.9</td>\n",
       "      <td>22.3</td>\n",
       "      <td>20.6</td>\n",
       "      <td>19.1</td>\n",
       "      <td>18.8</td>\n",
       "      <td>90</td>\n",
       "      <td>88</td>\n",
       "      <td>yes</td>\n",
       "      <td>1.0</td>\n",
       "      <td>50.0</td>\n",
       "      <td>16.9</td>\n",
       "    </tr>\n",
       "    <tr>\n",
       "      <th>4</th>\n",
       "      <td>1015.9</td>\n",
       "      <td>21.3</td>\n",
       "      <td>20.7</td>\n",
       "      <td>20.2</td>\n",
       "      <td>19.9</td>\n",
       "      <td>95</td>\n",
       "      <td>81</td>\n",
       "      <td>yes</td>\n",
       "      <td>0.0</td>\n",
       "      <td>40.0</td>\n",
       "      <td>13.7</td>\n",
       "    </tr>\n",
       "  </tbody>\n",
       "</table>\n",
       "</div>"
      ],
      "text/plain": [
       "   pressure  maxtemp  temparature  mintemp  dewpoint  humidity  cloud  \\\n",
       "0    1025.9     19.9         18.3     16.8      13.1        72     49   \n",
       "1    1022.0     21.7         18.9     17.2      15.6        81     83   \n",
       "2    1019.7     20.3         19.3     18.0      18.4        95     91   \n",
       "3    1018.9     22.3         20.6     19.1      18.8        90     88   \n",
       "4    1015.9     21.3         20.7     20.2      19.9        95     81   \n",
       "\n",
       "  rainfall  sunshine  winddirection  windspeed  \n",
       "0      yes       9.3           80.0       26.3  \n",
       "1      yes       0.6           50.0       15.3  \n",
       "2      yes       0.0           40.0       14.2  \n",
       "3      yes       1.0           50.0       16.9  \n",
       "4      yes       0.0           40.0       13.7  "
      ]
     },
     "execution_count": 30,
     "metadata": {},
     "output_type": "execute_result"
    }
   ],
   "source": [
    "df.head()"
   ]
  },
  {
   "cell_type": "code",
   "execution_count": 31,
   "id": "e1da521e",
   "metadata": {},
   "outputs": [
    {
     "data": {
      "text/plain": [
       "pressure         0\n",
       "maxtemp          0\n",
       "temparature      0\n",
       "mintemp          0\n",
       "dewpoint         0\n",
       "humidity         0\n",
       "cloud            0\n",
       "rainfall         0\n",
       "sunshine         0\n",
       "winddirection    1\n",
       "windspeed        1\n",
       "dtype: int64"
      ]
     },
     "execution_count": 31,
     "metadata": {},
     "output_type": "execute_result"
    }
   ],
   "source": [
    "df.isnull().sum()"
   ]
  },
  {
   "cell_type": "code",
   "execution_count": 32,
   "id": "7af16aaa",
   "metadata": {},
   "outputs": [
    {
     "data": {
      "text/plain": [
       "array([ 80.,  50.,  40.,  20.,  30.,  60.,  70.,  10., 200., 220., 120.,\n",
       "       190., 210., 300., 240., 180., 230.,  90., 170., 150., 100., 130.,\n",
       "        nan, 160., 270., 280., 250., 260., 290., 350., 110., 140.])"
      ]
     },
     "execution_count": 32,
     "metadata": {},
     "output_type": "execute_result"
    }
   ],
   "source": [
    "df['winddirection'].unique()"
   ]
  },
  {
   "cell_type": "code",
   "execution_count": 33,
   "id": "004ba914",
   "metadata": {},
   "outputs": [
    {
     "data": {
      "text/plain": [
       "array([26.3, 15.3, 14.2, 16.9, 13.7, 14.5, 21.5, 14.3, 39.3, 37.7, 23.3,\n",
       "       23.9, 24.4, 33.2, 37.5, 40. , 23.4, 28.4, 38. , 50.6, 26.2, 35.3,\n",
       "       55.5, 59.5, 28.7, 21.3, 29.6, 28.8, 25. , 21.2, 43.1, 31.9, 27.3,\n",
       "        9.1, 44.7, 20.5, 16.7, 17.2, 22. , 15.8, 13.9, 10.2, 33.5, 23.5,\n",
       "       19.2, 18.6, 22.2, 19.3, 28. , 20.4, 15.2,  9.2, 34.2, 27.1, 14.7,\n",
       "       15.4, 13.3,  6.6, 13.8, 15.1, 39.7, 36. , 22.8, 26.7, 26.5, 13.1,\n",
       "       12.5, 38.3, 42. , 19.4, 13.4, 14.6, 26.9, 14.8,  4.5,  8.3,  8. ,\n",
       "       20. , 10. , 17.3, 31.8, 29.8, 11.2, 16. , 19.6, 20.9,  7.3, 11.1,\n",
       "       13. ,  8.5, 24.2, 20.2, 30.5, 27. , 23.7, 11.8, 15.5, 12.1,  9.5,\n",
       "       16.3, 12. , 26. , 28.6, 24.9, 28.3, 15.7, 21.9, 39.5, 30.3, 26.4,\n",
       "       22.3, 25.9, 11.3,  7.9,  7.4, 16.2, 34.8, 32.5, 24. , 19. , 25.2,\n",
       "       31.7, 27.4, 20.8,  9.8, 12.6,  nan, 24.3, 30. , 29.3, 23.2, 12.8,\n",
       "       19.8, 12.4, 10.9,  9.6,  9. , 11.9, 26.1, 25.1, 33. , 22.5, 24.8,\n",
       "       18.8, 22.4, 22.6, 12.3, 21.6, 17.5, 16.1, 14.1,  5.5,  4.4,  8.7,\n",
       "        6.1, 22.9, 12.9, 18. , 18.1, 16.6,  6.9, 13.6, 11.7, 11. , 10.7,\n",
       "       16.4,  8.9,  5.9,  5.7,  8.6, 16.5, 18.2, 29. , 24.5, 21.4, 39.9,\n",
       "       41.3, 32.2,  8.1, 14. , 12.7, 30.6, 52.8, 50.7, 37. , 30.4, 30.2,\n",
       "       28.2, 32.4,  9.9, 13.2, 19.7, 28.9, 10.3, 40.8, 32.9, 46.3, 43.8,\n",
       "       41.4, 29.7, 35.8, 25.5, 22.1, 40.4, 29.2, 31.2, 34.3, 34. , 15.9,\n",
       "       27.9, 37.9, 21.8, 28.5, 35.1, 20.7, 20.3, 26.8, 48. , 35.6, 15. ,\n",
       "        9.4, 27.6, 18.4, 33.4])"
      ]
     },
     "execution_count": 33,
     "metadata": {},
     "output_type": "execute_result"
    }
   ],
   "source": [
    "df['windspeed'].unique()"
   ]
  },
  {
   "cell_type": "code",
   "execution_count": 37,
   "id": "6fbd8e7c",
   "metadata": {},
   "outputs": [
    {
     "data": {
      "text/plain": [
       "20.0"
      ]
     },
     "execution_count": 37,
     "metadata": {},
     "output_type": "execute_result"
    }
   ],
   "source": [
    "df['winddirection'].mode()[0]"
   ]
  },
  {
   "cell_type": "code",
   "execution_count": 38,
   "id": "c3f2fbad",
   "metadata": {},
   "outputs": [],
   "source": [
    "df['winddirection'] = df['winddirection'].fillna(df['winddirection'].mode()[0])\n",
    "df['windspeed'] = df['windspeed'].fillna(df['windspeed'].median())"
   ]
  },
  {
   "cell_type": "code",
   "execution_count": 39,
   "id": "9d9c7b53",
   "metadata": {},
   "outputs": [
    {
     "data": {
      "text/plain": [
       "pressure         0\n",
       "maxtemp          0\n",
       "temparature      0\n",
       "mintemp          0\n",
       "dewpoint         0\n",
       "humidity         0\n",
       "cloud            0\n",
       "rainfall         0\n",
       "sunshine         0\n",
       "winddirection    0\n",
       "windspeed        0\n",
       "dtype: int64"
      ]
     },
     "execution_count": 39,
     "metadata": {},
     "output_type": "execute_result"
    }
   ],
   "source": [
    "df.isnull().sum()"
   ]
  },
  {
   "cell_type": "code",
   "execution_count": 40,
   "id": "da91dd9d",
   "metadata": {},
   "outputs": [
    {
     "data": {
      "text/plain": [
       "Index(['pressure', 'maxtemp', 'temparature', 'mintemp', 'dewpoint', 'humidity',\n",
       "       'cloud', 'rainfall', 'sunshine', 'winddirection', 'windspeed'],\n",
       "      dtype='object')"
      ]
     },
     "execution_count": 40,
     "metadata": {},
     "output_type": "execute_result"
    }
   ],
   "source": [
    "df.columns"
   ]
  },
  {
   "cell_type": "code",
   "execution_count": 42,
   "id": "98948897",
   "metadata": {},
   "outputs": [],
   "source": [
    "df['rainfall'] = df['rainfall'].map({\"yes\": 1, \"no\": 0})"
   ]
  },
  {
   "cell_type": "code",
   "execution_count": 43,
   "id": "e23ef9a6",
   "metadata": {},
   "outputs": [
    {
     "name": "stdout",
     "output_type": "stream",
     "text": [
      "<class 'pandas.core.frame.DataFrame'>\n",
      "RangeIndex: 366 entries, 0 to 365\n",
      "Data columns (total 11 columns):\n",
      " #   Column         Non-Null Count  Dtype  \n",
      "---  ------         --------------  -----  \n",
      " 0   pressure       366 non-null    float64\n",
      " 1   maxtemp        366 non-null    float64\n",
      " 2   temparature    366 non-null    float64\n",
      " 3   mintemp        366 non-null    float64\n",
      " 4   dewpoint       366 non-null    float64\n",
      " 5   humidity       366 non-null    int64  \n",
      " 6   cloud          366 non-null    int64  \n",
      " 7   rainfall       366 non-null    int64  \n",
      " 8   sunshine       366 non-null    float64\n",
      " 9   winddirection  366 non-null    float64\n",
      " 10  windspeed      366 non-null    float64\n",
      "dtypes: float64(8), int64(3)\n",
      "memory usage: 31.6 KB\n"
     ]
    }
   ],
   "source": [
    "df.info()"
   ]
  },
  {
   "cell_type": "code",
   "execution_count": 44,
   "id": "8b08e3d0",
   "metadata": {},
   "outputs": [
    {
     "data": {
      "text/plain": [
       "Index(['pressure', 'maxtemp', 'temparature', 'mintemp', 'dewpoint', 'humidity',\n",
       "       'cloud', 'rainfall', 'sunshine', 'winddirection', 'windspeed'],\n",
       "      dtype='object')"
      ]
     },
     "execution_count": 44,
     "metadata": {},
     "output_type": "execute_result"
    }
   ],
   "source": [
    "# EDA\n",
    "df.columns"
   ]
  },
  {
   "cell_type": "code",
   "execution_count": 47,
   "id": "81cb7163",
   "metadata": {},
   "outputs": [
    {
     "data": {
      "image/png": "[encoded data removed]",
      "text/plain": [
       "<Figure size 1080x720 with 10 Axes>"
      ]
     },
     "metadata": {
      "needs_background": "light"
     },
     "output_type": "display_data"
    }
   ],
   "source": [
    "columns = ['pressure', 'maxtemp', 'temparature', 'mintemp', 'dewpoint', 'humidity',\n",
    "       'cloud', 'sunshine', 'winddirection', 'windspeed']\n",
    "\n",
    "plt.figure(figsize = (15, 10))\n",
    "\n",
    "for i, column in enumerate(columns, 1):\n",
    "    plt.subplot(3, 4, i)\n",
    "    sns.histplot(df[column], kde = True)\n",
    "    plt.title(f\"Distribution of {column}\")\n",
    "\n",
    "plt.tight_layout()\n",
    "plt.show()"
   ]
  },
  {
   "cell_type": "code",
   "execution_count": 48,
   "id": "c231acf6",
   "metadata": {},
   "outputs": [
    {
     "data": {
      "image/png": "[encoded data removed]",
      "text/plain": [
       "<Figure size 432x288 with 1 Axes>"
      ]
     },
     "metadata": {
      "needs_background": "light"
     },
     "output_type": "display_data"
    }
   ],
   "source": [
    "plt.figure(figsize = (6, 4))\n",
    "sns.countplot(x = \"rainfall\", data = df)\n",
    "plt.title(\"Count of rainfall data\")\n",
    "plt.show()"
   ]
  },
  {
   "cell_type": "markdown",
   "id": "0d854faa",
   "metadata": {},
   "source": [
    "Handling missing value-> mode , mean\n",
    "Categorical -> numerical , rainfall, map method\n",
    "kde - > histplot\n",
    "imbalance -> SMOTE (oversample, undersample)\n",
    "Feature eng.-> corr\n",
    "Outlier->boxplot"
   ]
  },
  {
   "cell_type": "code",
   "execution_count": 49,
   "id": "08801387",
   "metadata": {},
   "outputs": [
    {
     "data": {
      "image/png": "[encoded data removed]",
      "text/plain": [
       "<Figure size 720x576 with 2 Axes>"
      ]
     },
     "metadata": {
      "needs_background": "light"
     },
     "output_type": "display_data"
    }
   ],
   "source": [
    "plt.figure(figsize = (10, 8))\n",
    "sns.heatmap(df.corr(), annot=True, cmap = \"coolwarm\", fmt = \".2f\")\n",
    "plt.title(\"Correlation Matrix\")\n",
    "plt.show()"
   ]
  },
  {
   "cell_type": "code",
   "execution_count": 50,
   "id": "a8d419e9",
   "metadata": {},
   "outputs": [
    {
     "name": "stderr",
     "output_type": "stream",
     "text": [
      "d:\\python38\\lib\\site-packages\\seaborn\\_decorators.py:36: FutureWarning: Pass the following variable as a keyword arg: x. From version 0.12, the only valid positional argument will be `data`, and passing other arguments without an explicit keyword will result in an error or misinterpretation.\n",
      "  warnings.warn(\n",
      "d:\\python38\\lib\\site-packages\\seaborn\\_decorators.py:36: FutureWarning: Pass the following variable as a keyword arg: x. From version 0.12, the only valid positional argument will be `data`, and passing other arguments without an explicit keyword will result in an error or misinterpretation.\n",
      "  warnings.warn(\n",
      "d:\\python38\\lib\\site-packages\\seaborn\\_decorators.py:36: FutureWarning: Pass the following variable as a keyword arg: x. From version 0.12, the only valid positional argument will be `data`, and passing other arguments without an explicit keyword will result in an error or misinterpretation.\n",
      "  warnings.warn(\n",
      "d:\\python38\\lib\\site-packages\\seaborn\\_decorators.py:36: FutureWarning: Pass the following variable as a keyword arg: x. From version 0.12, the only valid positional argument will be `data`, and passing other arguments without an explicit keyword will result in an error or misinterpretation.\n",
      "  warnings.warn(\n",
      "d:\\python38\\lib\\site-packages\\seaborn\\_decorators.py:36: FutureWarning: Pass the following variable as a keyword arg: x. From version 0.12, the only valid positional argument will be `data`, and passing other arguments without an explicit keyword will result in an error or misinterpretation.\n",
      "  warnings.warn(\n",
      "d:\\python38\\lib\\site-packages\\seaborn\\_decorators.py:36: FutureWarning: Pass the following variable as a keyword arg: x. From version 0.12, the only valid positional argument will be `data`, and passing other arguments without an explicit keyword will result in an error or misinterpretation.\n",
      "  warnings.warn(\n",
      "d:\\python38\\lib\\site-packages\\seaborn\\_decorators.py:36: FutureWarning: Pass the following variable as a keyword arg: x. From version 0.12, the only valid positional argument will be `data`, and passing other arguments without an explicit keyword will result in an error or misinterpretation.\n",
      "  warnings.warn(\n",
      "d:\\python38\\lib\\site-packages\\seaborn\\_decorators.py:36: FutureWarning: Pass the following variable as a keyword arg: x. From version 0.12, the only valid positional argument will be `data`, and passing other arguments without an explicit keyword will result in an error or misinterpretation.\n",
      "  warnings.warn(\n",
      "d:\\python38\\lib\\site-packages\\seaborn\\_decorators.py:36: FutureWarning: Pass the following variable as a keyword arg: x. From version 0.12, the only valid positional argument will be `data`, and passing other arguments without an explicit keyword will result in an error or misinterpretation.\n",
      "  warnings.warn(\n",
      "d:\\python38\\lib\\site-packages\\seaborn\\_decorators.py:36: FutureWarning: Pass the following variable as a keyword arg: x. From version 0.12, the only valid positional argument will be `data`, and passing other arguments without an explicit keyword will result in an error or misinterpretation.\n",
      "  warnings.warn(\n"
     ]
    },
    {
     "data": {
      "image/png": "[encoded data removed]",
      "text/plain": [
       "<Figure size 1080x720 with 10 Axes>"
      ]
     },
     "metadata": {
      "needs_background": "light"
     },
     "output_type": "display_data"
    }
   ],
   "source": [
    "columns = ['pressure', 'maxtemp', 'temparature', 'mintemp', 'dewpoint', 'humidity',\n",
    "       'cloud', 'sunshine', 'winddirection', 'windspeed']\n",
    "\n",
    "plt.figure(figsize = (15, 10))\n",
    "\n",
    "for i, column in enumerate(columns, 1):\n",
    "    plt.subplot(3, 4, i)\n",
    "    sns.boxplot(df[column])\n",
    "    plt.title(f\"Distribution of {column}\")\n",
    "\n",
    "plt.tight_layout()\n",
    "plt.show()"
   ]
  },
  {
   "cell_type": "code",
   "execution_count": 51,
   "id": "36a00819",
   "metadata": {},
   "outputs": [],
   "source": [
    "df = df.drop(columns = ['maxtemp', 'temparature', 'mintemp'])"
   ]
  },
  {
   "cell_type": "code",
   "execution_count": 52,
   "id": "69e765a3",
   "metadata": {},
   "outputs": [
    {
     "data": {
      "text/html": [
       "<div>\n",
       "<style scoped>\n",
       "    .dataframe tbody tr th:only-of-type {\n",
       "        vertical-align: middle;\n",
       "    }\n",
       "\n",
       "    .dataframe tbody tr th {\n",
       "        vertical-align: top;\n",
       "    }\n",
       "\n",
       "    .dataframe thead th {\n",
       "        text-align: right;\n",
       "    }\n",
       "</style>\n",
       "<table border=\"1\" class=\"dataframe\">\n",
       "  <thead>\n",
       "    <tr style=\"text-align: right;\">\n",
       "      <th></th>\n",
       "      <th>pressure</th>\n",
       "      <th>dewpoint</th>\n",
       "      <th>humidity</th>\n",
       "      <th>cloud</th>\n",
       "      <th>rainfall</th>\n",
       "      <th>sunshine</th>\n",
       "      <th>winddirection</th>\n",
       "      <th>windspeed</th>\n",
       "    </tr>\n",
       "  </thead>\n",
       "  <tbody>\n",
       "    <tr>\n",
       "      <th>0</th>\n",
       "      <td>1025.9</td>\n",
       "      <td>13.1</td>\n",
       "      <td>72</td>\n",
       "      <td>49</td>\n",
       "      <td>1</td>\n",
       "      <td>9.3</td>\n",
       "      <td>80.0</td>\n",
       "      <td>26.3</td>\n",
       "    </tr>\n",
       "    <tr>\n",
       "      <th>1</th>\n",
       "      <td>1022.0</td>\n",
       "      <td>15.6</td>\n",
       "      <td>81</td>\n",
       "      <td>83</td>\n",
       "      <td>1</td>\n",
       "      <td>0.6</td>\n",
       "      <td>50.0</td>\n",
       "      <td>15.3</td>\n",
       "    </tr>\n",
       "    <tr>\n",
       "      <th>2</th>\n",
       "      <td>1019.7</td>\n",
       "      <td>18.4</td>\n",
       "      <td>95</td>\n",
       "      <td>91</td>\n",
       "      <td>1</td>\n",
       "      <td>0.0</td>\n",
       "      <td>40.0</td>\n",
       "      <td>14.2</td>\n",
       "    </tr>\n",
       "    <tr>\n",
       "      <th>3</th>\n",
       "      <td>1018.9</td>\n",
       "      <td>18.8</td>\n",
       "      <td>90</td>\n",
       "      <td>88</td>\n",
       "      <td>1</td>\n",
       "      <td>1.0</td>\n",
       "      <td>50.0</td>\n",
       "      <td>16.9</td>\n",
       "    </tr>\n",
       "    <tr>\n",
       "      <th>4</th>\n",
       "      <td>1015.9</td>\n",
       "      <td>19.9</td>\n",
       "      <td>95</td>\n",
       "      <td>81</td>\n",
       "      <td>1</td>\n",
       "      <td>0.0</td>\n",
       "      <td>40.0</td>\n",
       "      <td>13.7</td>\n",
       "    </tr>\n",
       "  </tbody>\n",
       "</table>\n",
       "</div>"
      ],
      "text/plain": [
       "   pressure  dewpoint  humidity  cloud  rainfall  sunshine  winddirection  \\\n",
       "0    1025.9      13.1        72     49         1       9.3           80.0   \n",
       "1    1022.0      15.6        81     83         1       0.6           50.0   \n",
       "2    1019.7      18.4        95     91         1       0.0           40.0   \n",
       "3    1018.9      18.8        90     88         1       1.0           50.0   \n",
       "4    1015.9      19.9        95     81         1       0.0           40.0   \n",
       "\n",
       "   windspeed  \n",
       "0       26.3  \n",
       "1       15.3  \n",
       "2       14.2  \n",
       "3       16.9  \n",
       "4       13.7  "
      ]
     },
     "execution_count": 52,
     "metadata": {},
     "output_type": "execute_result"
    }
   ],
   "source": [
    "df.head()"
   ]
  },
  {
   "cell_type": "code",
   "execution_count": 101,
   "id": "07b025c9",
   "metadata": {},
   "outputs": [
    {
     "data": {
      "text/plain": [
       "Index(['pressure', 'dewpoint', 'humidity', 'cloud', 'rainfall', 'sunshine',\n",
       "       'winddirection', 'windspeed'],\n",
       "      dtype='object')"
      ]
     },
     "execution_count": 101,
     "metadata": {},
     "output_type": "execute_result"
    }
   ],
   "source": [
    "df.columns"
   ]
  },
  {
   "cell_type": "code",
   "execution_count": 53,
   "id": "a49c5c17",
   "metadata": {},
   "outputs": [
    {
     "data": {
      "text/plain": [
       "1    249\n",
       "0    117\n",
       "Name: rainfall, dtype: int64"
      ]
     },
     "execution_count": 53,
     "metadata": {},
     "output_type": "execute_result"
    }
   ],
   "source": [
    "df['rainfall'].value_counts()"
   ]
  },
  {
   "cell_type": "code",
   "execution_count": 54,
   "id": "93202e9c",
   "metadata": {},
   "outputs": [],
   "source": [
    "df_majority = df[df['rainfall'] == 1]\n",
    "df_minority = df[df['rainfall'] == 0]"
   ]
  },
  {
   "cell_type": "code",
   "execution_count": 55,
   "id": "84e742f5",
   "metadata": {},
   "outputs": [],
   "source": [
    "downsample_indices = np.random.choice(df_majority.index, size = len(df_minority), replace=False)"
   ]
  },
  {
   "cell_type": "code",
   "execution_count": 56,
   "id": "1c1005ae",
   "metadata": {},
   "outputs": [],
   "source": [
    "df_majority_downsampled = df_majority.loc[downsample_indices]"
   ]
  },
  {
   "cell_type": "code",
   "execution_count": 57,
   "id": "ea2ec223",
   "metadata": {},
   "outputs": [
    {
     "data": {
      "text/plain": [
       "(117, 8)"
      ]
     },
     "execution_count": 57,
     "metadata": {},
     "output_type": "execute_result"
    }
   ],
   "source": [
    "df_majority_downsampled.shape"
   ]
  },
  {
   "cell_type": "code",
   "execution_count": 58,
   "id": "0aaf20f1",
   "metadata": {},
   "outputs": [],
   "source": [
    "df_downsampled = pd.concat([df_majority_downsampled, df_minority])"
   ]
  },
  {
   "cell_type": "code",
   "execution_count": 59,
   "id": "270f0820",
   "metadata": {},
   "outputs": [],
   "source": [
    "df_downsampled = df_downsampled.sample(frac = 1, random_state = 42).reset_index(drop=True)"
   ]
  },
  {
   "cell_type": "code",
   "execution_count": 61,
   "id": "97d98302",
   "metadata": {},
   "outputs": [
    {
     "data": {
      "text/plain": [
       "1    117\n",
       "0    117\n",
       "Name: rainfall, dtype: int64"
      ]
     },
     "execution_count": 61,
     "metadata": {},
     "output_type": "execute_result"
    }
   ],
   "source": [
    "df_downsampled['rainfall'].value_counts()"
   ]
  },
  {
   "cell_type": "code",
   "execution_count": 62,
   "id": "ffc943e9",
   "metadata": {},
   "outputs": [],
   "source": [
    "# Model Building\n",
    "from sklearn.model_selection import train_test_split, GridSearchCV, cross_val_score\n",
    "from sklearn.metrics import classification_report, confusion_matrix, accuracy_score\n",
    "from sklearn.ensemble import RandomForestClassifier"
   ]
  },
  {
   "cell_type": "code",
   "execution_count": 63,
   "id": "8e228b16",
   "metadata": {},
   "outputs": [],
   "source": [
    "X = df_downsampled.drop(columns = ['rainfall'])\n",
    "y = df_downsampled['rainfall']"
   ]
  },
  {
   "cell_type": "code",
   "execution_count": 64,
   "id": "91385e0c",
   "metadata": {},
   "outputs": [],
   "source": [
    "X_train, X_test, y_train, y_test = train_test_split(X, y, test_size = 0.2, random_state=42)"
   ]
  },
  {
   "cell_type": "code",
   "execution_count": 66,
   "id": "33f58574",
   "metadata": {},
   "outputs": [],
   "source": [
    "rf_model = RandomForestClassifier(random_state=42)\n",
    "\n",
    "param_grid_rf = {\n",
    "    \"n_estimators\": [50, 100, 200], \n",
    "    \"max_features\":['sqrt', 'log2'],\n",
    "    \"max_depth\": [None, 10, 20, 30],\n",
    "    \"min_samples_split\": [2, 5, 10],\n",
    "    \"min_samples_leaf\": [1, 2, 4]\n",
    "}"
   ]
  },
  {
   "cell_type": "code",
   "execution_count": 67,
   "id": "cef3132f",
   "metadata": {},
   "outputs": [],
   "source": [
    "grid_search_rf = GridSearchCV(estimator=rf_model, param_grid=param_grid_rf, cv = 5, n_jobs = -1, verbose = 2)"
   ]
  },
  {
   "cell_type": "code",
   "execution_count": 68,
   "id": "4540f8e9",
   "metadata": {},
   "outputs": [
    {
     "name": "stdout",
     "output_type": "stream",
     "text": [
      "Fitting 5 folds for each of 216 candidates, totalling 1080 fits\n"
     ]
    },
    {
     "data": {
      "text/html": [
       "<style>#sk-container-id-1 {color: black;}#sk-container-id-1 pre{padding: 0;}#sk-container-id-1 div.sk-toggleable {background-color: white;}#sk-container-id-1 label.sk-toggleable__label {cursor: pointer;display: block;width: 100%;margin-bottom: 0;padding: 0.3em;box-sizing: border-box;text-align: center;}#sk-container-id-1 label.sk-toggleable__label-arrow:before {content: \"▸\";float: left;margin-right: 0.25em;color: #696969;}#sk-container-id-1 label.sk-toggleable__label-arrow:hover:before {color: black;}#sk-container-id-1 div.sk-estimator:hover label.sk-toggleable__label-arrow:before {color: black;}#sk-container-id-1 div.sk-toggleable__content {max-height: 0;max-width: 0;overflow: hidden;text-align: left;background-color: #f0f8ff;}#sk-container-id-1 div.sk-toggleable__content pre {margin: 0.2em;color: black;border-radius: 0.25em;background-color: #f0f8ff;}#sk-container-id-1 input.sk-toggleable__control:checked~div.sk-toggleable__content {max-height: 200px;max-width: 100%;overflow: auto;}#sk-container-id-1 input.sk-toggleable__control:checked~label.sk-toggleable__label-arrow:before {content: \"▾\";}#sk-container-id-1 div.sk-estimator input.sk-toggleable__control:checked~label.sk-toggleable__label {background-color: #d4ebff;}#sk-container-id-1 div.sk-label input.sk-toggleable__control:checked~label.sk-toggleable__label {background-color: #d4ebff;}#sk-container-id-1 input.sk-hidden--visually {border: 0;clip: rect(1px 1px 1px 1px);clip: rect(1px, 1px, 1px, 1px);height: 1px;margin: -1px;overflow: hidden;padding: 0;position: absolute;width: 1px;}#sk-container-id-1 div.sk-estimator {font-family: monospace;background-color: #f0f8ff;border: 1px dotted black;border-radius: 0.25em;box-sizing: border-box;margin-bottom: 0.5em;}#sk-container-id-1 div.sk-estimator:hover {background-color: #d4ebff;}#sk-container-id-1 div.sk-parallel-item::after {content: \"\";width: 100%;border-bottom: 1px solid gray;flex-grow: 1;}#sk-container-id-1 div.sk-label:hover label.sk-toggleable__label {background-color: #d4ebff;}#sk-container-id-1 div.sk-serial::before {content: \"\";position: absolute;border-left: 1px solid gray;box-sizing: border-box;top: 0;bottom: 0;left: 50%;z-index: 0;}#sk-container-id-1 div.sk-serial {display: flex;flex-direction: column;align-items: center;background-color: white;padding-right: 0.2em;padding-left: 0.2em;position: relative;}#sk-container-id-1 div.sk-item {position: relative;z-index: 1;}#sk-container-id-1 div.sk-parallel {display: flex;align-items: stretch;justify-content: center;background-color: white;position: relative;}#sk-container-id-1 div.sk-item::before, #sk-container-id-1 div.sk-parallel-item::before {content: \"\";position: absolute;border-left: 1px solid gray;box-sizing: border-box;top: 0;bottom: 0;left: 50%;z-index: -1;}#sk-container-id-1 div.sk-parallel-item {display: flex;flex-direction: column;z-index: 1;position: relative;background-color: white;}#sk-container-id-1 div.sk-parallel-item:first-child::after {align-self: flex-end;width: 50%;}#sk-container-id-1 div.sk-parallel-item:last-child::after {align-self: flex-start;width: 50%;}#sk-container-id-1 div.sk-parallel-item:only-child::after {width: 0;}#sk-container-id-1 div.sk-dashed-wrapped {border: 1px dashed gray;margin: 0 0.4em 0.5em 0.4em;box-sizing: border-box;padding-bottom: 0.4em;background-color: white;}#sk-container-id-1 div.sk-label label {font-family: monospace;font-weight: bold;display: inline-block;line-height: 1.2em;}#sk-container-id-1 div.sk-label-container {text-align: center;}#sk-container-id-1 div.sk-container {/* jupyter's `normalize.less` sets `[hidden] { display: none; }` but bootstrap.min.css set `[hidden] { display: none !important; }` so we also need the `!important` here to be able to override the default hidden behavior on the sphinx rendered scikit-learn.org. See: https://github.com/scikit-learn/scikit-learn/issues/21755 */display: inline-block !important;position: relative;}#sk-container-id-1 div.sk-text-repr-fallback {display: none;}</style><div id=\"sk-container-id-1\" class=\"sk-top-container\"><div class=\"sk-text-repr-fallback\"><pre>GridSearchCV(cv=5, estimator=RandomForestClassifier(random_state=42), n_jobs=-1,\n",
       "             param_grid={&#x27;max_depth&#x27;: [None, 10, 20, 30],\n",
       "                         &#x27;max_features&#x27;: [&#x27;sqrt&#x27;, &#x27;log2&#x27;],\n",
       "                         &#x27;min_samples_leaf&#x27;: [1, 2, 4],\n",
       "                         &#x27;min_samples_split&#x27;: [2, 5, 10],\n",
       "                         &#x27;n_estimators&#x27;: [50, 100, 200]},\n",
       "             verbose=2)</pre><b>In a Jupyter environment, please rerun this cell to show the HTML representation or trust the notebook. <br />On GitHub, the HTML representation is unable to render, please try loading this page with nbviewer.org.</b></div><div class=\"sk-container\" hidden><div class=\"sk-item sk-dashed-wrapped\"><div class=\"sk-label-container\"><div class=\"sk-label sk-toggleable\"><input class=\"sk-toggleable__control sk-hidden--visually\" id=\"sk-estimator-id-1\" type=\"checkbox\" ><label for=\"sk-estimator-id-1\" class=\"sk-toggleable__label sk-toggleable__label-arrow\">GridSearchCV</label><div class=\"sk-toggleable__content\"><pre>GridSearchCV(cv=5, estimator=RandomForestClassifier(random_state=42), n_jobs=-1,\n",
       "             param_grid={&#x27;max_depth&#x27;: [None, 10, 20, 30],\n",
       "                         &#x27;max_features&#x27;: [&#x27;sqrt&#x27;, &#x27;log2&#x27;],\n",
       "                         &#x27;min_samples_leaf&#x27;: [1, 2, 4],\n",
       "                         &#x27;min_samples_split&#x27;: [2, 5, 10],\n",
       "                         &#x27;n_estimators&#x27;: [50, 100, 200]},\n",
       "             verbose=2)</pre></div></div></div><div class=\"sk-parallel\"><div class=\"sk-parallel-item\"><div class=\"sk-item\"><div class=\"sk-label-container\"><div class=\"sk-label sk-toggleable\"><input class=\"sk-toggleable__control sk-hidden--visually\" id=\"sk-estimator-id-2\" type=\"checkbox\" ><label for=\"sk-estimator-id-2\" class=\"sk-toggleable__label sk-toggleable__label-arrow\">estimator: RandomForestClassifier</label><div class=\"sk-toggleable__content\"><pre>RandomForestClassifier(random_state=42)</pre></div></div></div><div class=\"sk-serial\"><div class=\"sk-item\"><div class=\"sk-estimator sk-toggleable\"><input class=\"sk-toggleable__control sk-hidden--visually\" id=\"sk-estimator-id-3\" type=\"checkbox\" ><label for=\"sk-estimator-id-3\" class=\"sk-toggleable__label sk-toggleable__label-arrow\">RandomForestClassifier</label><div class=\"sk-toggleable__content\"><pre>RandomForestClassifier(random_state=42)</pre></div></div></div></div></div></div></div></div></div></div>"
      ],
      "text/plain": [
       "GridSearchCV(cv=5, estimator=RandomForestClassifier(random_state=42), n_jobs=-1,\n",
       "             param_grid={'max_depth': [None, 10, 20, 30],\n",
       "                         'max_features': ['sqrt', 'log2'],\n",
       "                         'min_samples_leaf': [1, 2, 4],\n",
       "                         'min_samples_split': [2, 5, 10],\n",
       "                         'n_estimators': [50, 100, 200]},\n",
       "             verbose=2)"
      ]
     },
     "execution_count": 68,
     "metadata": {},
     "output_type": "execute_result"
    }
   ],
   "source": [
    "grid_search_rf.fit(X_train, y_train)"
   ]
  },
  {
   "cell_type": "code",
   "execution_count": 69,
   "id": "ea18816b",
   "metadata": {},
   "outputs": [],
   "source": [
    "best_rf_model = grid_search_rf.best_estimator_"
   ]
  },
  {
   "cell_type": "code",
   "execution_count": 71,
   "id": "2b01565c",
   "metadata": {},
   "outputs": [
    {
     "data": {
      "text/plain": [
       "{'max_depth': None,\n",
       " 'max_features': 'sqrt',\n",
       " 'min_samples_leaf': 2,\n",
       " 'min_samples_split': 10,\n",
       " 'n_estimators': 50}"
      ]
     },
     "execution_count": 71,
     "metadata": {},
     "output_type": "execute_result"
    }
   ],
   "source": [
    "grid_search_rf.best_params_"
   ]
  },
  {
   "cell_type": "code",
   "execution_count": 72,
   "id": "dca5483e",
   "metadata": {},
   "outputs": [],
   "source": [
    "cv_scores = cross_val_score(best_rf_model, X_train, y_train, cv=5)"
   ]
  },
  {
   "cell_type": "code",
   "execution_count": 74,
   "id": "417bc93c",
   "metadata": {},
   "outputs": [
    {
     "data": {
      "text/plain": [
       "0.8022759601706969"
      ]
     },
     "execution_count": 74,
     "metadata": {},
     "output_type": "execute_result"
    }
   ],
   "source": [
    "np.mean(cv_scores)"
   ]
  },
  {
   "cell_type": "code",
   "execution_count": 75,
   "id": "6834ab6f",
   "metadata": {},
   "outputs": [],
   "source": [
    "y_pred = best_rf_model.predict(X_test)"
   ]
  },
  {
   "cell_type": "code",
   "execution_count": 76,
   "id": "10f72103",
   "metadata": {},
   "outputs": [
    {
     "data": {
      "text/plain": [
       "0.7021276595744681"
      ]
     },
     "execution_count": 76,
     "metadata": {},
     "output_type": "execute_result"
    }
   ],
   "source": [
    "accuracy_score(y_test, y_pred)"
   ]
  },
  {
   "cell_type": "code",
   "execution_count": 77,
   "id": "4fb5cc6d",
   "metadata": {},
   "outputs": [
    {
     "data": {
      "text/plain": [
       "array([[16,  8],\n",
       "       [ 6, 17]], dtype=int64)"
      ]
     },
     "execution_count": 77,
     "metadata": {},
     "output_type": "execute_result"
    }
   ],
   "source": [
    "confusion_matrix(y_test, y_pred)"
   ]
  },
  {
   "cell_type": "code",
   "execution_count": 79,
   "id": "2dbffefd",
   "metadata": {},
   "outputs": [],
   "source": [
    "report_dict = classification_report(y_test, y_pred, output_dict = True)"
   ]
  },
  {
   "cell_type": "code",
   "execution_count": 80,
   "id": "dcc79fd4",
   "metadata": {},
   "outputs": [
    {
     "data": {
      "text/plain": [
       "{'0': {'precision': 0.7272727272727273,\n",
       "  'recall': 0.6666666666666666,\n",
       "  'f1-score': 0.6956521739130435,\n",
       "  'support': 24.0},\n",
       " '1': {'precision': 0.68,\n",
       "  'recall': 0.7391304347826086,\n",
       "  'f1-score': 0.7083333333333334,\n",
       "  'support': 23.0},\n",
       " 'accuracy': 0.7021276595744681,\n",
       " 'macro avg': {'precision': 0.7036363636363636,\n",
       "  'recall': 0.7028985507246377,\n",
       "  'f1-score': 0.7019927536231885,\n",
       "  'support': 47.0},\n",
       " 'weighted avg': {'precision': 0.7041392649903288,\n",
       "  'recall': 0.7021276595744681,\n",
       "  'f1-score': 0.7018578476719087,\n",
       "  'support': 47.0}}"
      ]
     },
     "execution_count": 80,
     "metadata": {},
     "output_type": "execute_result"
    }
   ],
   "source": [
    "report_dict"
   ]
  },
  {
   "cell_type": "code",
   "execution_count": null,
   "id": "4b8056af",
   "metadata": {},
   "outputs": [],
   "source": [
    "Mishu-> DS -> Credit Card Fraud -> notebook 1, notebook 2, notebook 3\n",
    "Chando-> DS -> notebook 4, notebook 5, notebook 6\n",
    "Boss -> "
   ]
  },
  {
   "cell_type": "code",
   "execution_count": 82,
   "id": "a5796e02",
   "metadata": {},
   "outputs": [
    {
     "name": "stdout",
     "output_type": "stream",
     "text": [
      "Requirement already satisfied: mlflow in c:\\users\\dell\\appdata\\roaming\\python\\python38\\site-packages (2.17.2)Note: you may need to restart the kernel to use updated packages.\n",
      "\n",
      "Requirement already satisfied: sqlalchemy<3,>=1.4.0 in d:\\python38\\lib\\site-packages (from mlflow) (2.0.19)\n",
      "Requirement already satisfied: waitress<4; platform_system == \"Windows\" in d:\\python38\\lib\\site-packages (from mlflow) (3.0.0)\n",
      "Requirement already satisfied: matplotlib<4 in d:\\python38\\lib\\site-packages (from mlflow) (3.7.1)\n",
      "Requirement already satisfied: docker<8,>=4.0.0 in c:\\users\\dell\\appdata\\roaming\\python\\python38\\site-packages (from mlflow) (7.1.0)\n",
      "Requirement already satisfied: alembic!=1.10.0,<2 in d:\\python38\\lib\\site-packages (from mlflow) (1.14.0)\n",
      "Requirement already satisfied: graphene<4 in d:\\python38\\lib\\site-packages (from mlflow) (3.4.3)\n",
      "Requirement already satisfied: pyarrow<18,>=4.0.0 in d:\\python38\\lib\\site-packages (from mlflow) (16.1.0)\n",
      "Requirement already satisfied: numpy<3 in d:\\python38\\lib\\site-packages (from mlflow) (1.24.4)\n",
      "Requirement already satisfied: markdown<4,>=3.3 in d:\\python38\\lib\\site-packages (from mlflow) (3.3.3)\n",
      "Requirement already satisfied: scikit-learn<2 in d:\\python38\\lib\\site-packages (from mlflow) (1.3.2)\n",
      "Requirement already satisfied: scipy<2 in c:\\users\\dell\\appdata\\roaming\\python\\python38\\site-packages (from mlflow) (1.10.1)\n",
      "Requirement already satisfied: mlflow-skinny==2.17.2 in d:\\python38\\lib\\site-packages (from mlflow) (2.17.2)\n",
      "Requirement already satisfied: Flask<4 in d:\\python38\\lib\\site-packages (from mlflow) (2.1.3)\n",
      "Requirement already satisfied: pandas<3 in d:\\python38\\lib\\site-packages (from mlflow) (1.4.4)\n",
      "Requirement already satisfied: Jinja2<4,>=3.0; platform_system == \"Windows\" in d:\\python38\\lib\\site-packages (from mlflow) (3.0.3)\n",
      "Requirement already satisfied: greenlet!=0.4.17; platform_machine == \"aarch64\" or (platform_machine == \"ppc64le\" or (platform_machine == \"x86_64\" or (platform_machine == \"amd64\" or (platform_machine == \"AMD64\" or (platform_machine == \"win32\" or platform_machine == \"WIN32\"))))) in d:\\python38\\lib\\site-packages (from sqlalchemy<3,>=1.4.0->mlflow) (1.0.0)\n",
      "Requirement already satisfied: typing-extensions>=4.2.0 in c:\\users\\dell\\appdata\\roaming\\python\\python38\\site-packages (from sqlalchemy<3,>=1.4.0->mlflow) (4.11.0)\n",
      "Requirement already satisfied: contourpy>=1.0.1 in d:\\python38\\lib\\site-packages (from matplotlib<4->mlflow) (1.0.7)\n",
      "Requirement already satisfied: importlib-resources>=3.2.0; python_version < \"3.10\" in d:\\python38\\lib\\site-packages (from matplotlib<4->mlflow) (5.1.0)\n",
      "Requirement already satisfied: pillow>=6.2.0 in d:\\python38\\lib\\site-packages (from matplotlib<4->mlflow) (9.5.0)\n",
      "Requirement already satisfied: cycler>=0.10 in d:\\python38\\lib\\site-packages (from matplotlib<4->mlflow) (0.10.0)\n",
      "Requirement already satisfied: pyparsing>=2.3.1 in d:\\python38\\lib\\site-packages (from matplotlib<4->mlflow) (2.4.7)\n",
      "Requirement already satisfied: fonttools>=4.22.0 in d:\\python38\\lib\\site-packages (from matplotlib<4->mlflow) (4.39.4)\n",
      "Requirement already satisfied: kiwisolver>=1.0.1 in d:\\python38\\lib\\site-packages (from matplotlib<4->mlflow) (1.3.1)\n",
      "Requirement already satisfied: python-dateutil>=2.7 in d:\\python38\\lib\\site-packages (from matplotlib<4->mlflow) (2.8.1)\n",
      "Requirement already satisfied: packaging>=20.0 in d:\\python38\\lib\\site-packages (from matplotlib<4->mlflow) (23.2)\n",
      "Requirement already satisfied: pywin32>=304; sys_platform == \"win32\" in d:\\python38\\lib\\site-packages (from docker<8,>=4.0.0->mlflow) (308)\n",
      "Requirement already satisfied: requests>=2.26.0 in d:\\python38\\lib\\site-packages (from docker<8,>=4.0.0->mlflow) (2.32.3)\n",
      "Requirement already satisfied: urllib3>=1.26.0 in d:\\python38\\lib\\site-packages (from docker<8,>=4.0.0->mlflow) (2.0.4)\n",
      "Requirement already satisfied: Mako in d:\\python38\\lib\\site-packages (from alembic!=1.10.0,<2->mlflow) (1.3.6)\n",
      "Requirement already satisfied: importlib-metadata; python_version < \"3.9\" in d:\\python38\\lib\\site-packages (from alembic!=1.10.0,<2->mlflow) (8.0.0)\n",
      "Requirement already satisfied: graphql-relay<3.3,>=3.1 in d:\\python38\\lib\\site-packages (from graphene<4->mlflow) (3.2.0)\n",
      "Requirement already satisfied: graphql-core<3.3,>=3.1 in d:\\python38\\lib\\site-packages (from graphene<4->mlflow) (3.2.5)\n",
      "Requirement already satisfied: joblib>=1.1.1 in d:\\python38\\lib\\site-packages (from scikit-learn<2->mlflow) (1.3.1)\n",
      "Requirement already satisfied: threadpoolctl>=2.0.0 in d:\\python38\\lib\\site-packages (from scikit-learn<2->mlflow) (3.1.0)\n",
      "Requirement already satisfied: cachetools<6,>=5.0.0 in d:\\python38\\lib\\site-packages (from mlflow-skinny==2.17.2->mlflow) (5.5.0)\n",
      "Requirement already satisfied: opentelemetry-api<3,>=1.9.0 in d:\\python38\\lib\\site-packages (from mlflow-skinny==2.17.2->mlflow) (1.26.0)\n",
      "Requirement already satisfied: pyyaml<7,>=5.1 in d:\\python38\\lib\\site-packages (from mlflow-skinny==2.17.2->mlflow) (6.0)\n",
      "Requirement already satisfied: opentelemetry-sdk<3,>=1.9.0 in d:\\python38\\lib\\site-packages (from mlflow-skinny==2.17.2->mlflow) (1.26.0)\n",
      "Requirement already satisfied: protobuf<6,>=3.12.0 in d:\\python38\\lib\\site-packages (from mlflow-skinny==2.17.2->mlflow) (3.20.3)\n",
      "Requirement already satisfied: sqlparse<1,>=0.4.0 in d:\\python38\\lib\\site-packages (from mlflow-skinny==2.17.2->mlflow) (0.5.2)\n",
      "Requirement already satisfied: databricks-sdk<1,>=0.20.0 in d:\\python38\\lib\\site-packages (from mlflow-skinny==2.17.2->mlflow) (0.38.0)\n",
      "Requirement already satisfied: click<9,>=7.0 in d:\\python38\\lib\\site-packages (from mlflow-skinny==2.17.2->mlflow) (8.1.7)\n",
      "Requirement already satisfied: gitpython<4,>=3.1.9 in d:\\python38\\lib\\site-packages (from mlflow-skinny==2.17.2->mlflow) (3.1.30)\n",
      "Requirement already satisfied: cloudpickle<4 in d:\\python38\\lib\\site-packages (from mlflow-skinny==2.17.2->mlflow) (1.6.0)\n",
      "Requirement already satisfied: Werkzeug>=2.0 in d:\\python38\\lib\\site-packages (from Flask<4->mlflow) (2.1.0)\n",
      "Requirement already satisfied: itsdangerous>=2.0 in d:\\python38\\lib\\site-packages (from Flask<4->mlflow) (2.1.2)\n",
      "Requirement already satisfied: pytz>=2020.1 in d:\\python38\\lib\\site-packages (from pandas<3->mlflow) (2024.2)\n",
      "Requirement already satisfied: MarkupSafe>=2.0 in d:\\python38\\lib\\site-packages (from Jinja2<4,>=3.0; platform_system == \"Windows\"->mlflow) (2.1.1)\n",
      "Requirement already satisfied: six in d:\\python38\\lib\\site-packages (from cycler>=0.10->matplotlib<4->mlflow) (1.15.0)\n",
      "Requirement already satisfied: certifi>=2017.4.17 in d:\\python38\\lib\\site-packages (from requests>=2.26.0->docker<8,>=4.0.0->mlflow) (2020.12.5)\n",
      "Requirement already satisfied: charset-normalizer<4,>=2 in d:\\python38\\lib\\site-packages (from requests>=2.26.0->docker<8,>=4.0.0->mlflow) (2.0.12)\n",
      "Requirement already satisfied: idna<4,>=2.5 in d:\\python38\\lib\\site-packages (from requests>=2.26.0->docker<8,>=4.0.0->mlflow) (2.10)\n",
      "Requirement already satisfied: zipp>=0.5 in d:\\python38\\lib\\site-packages (from importlib-metadata; python_version < \"3.9\"->alembic!=1.10.0,<2->mlflow) (3.8.0)\n",
      "Requirement already satisfied: deprecated>=1.2.6 in d:\\python38\\lib\\site-packages (from opentelemetry-api<3,>=1.9.0->mlflow-skinny==2.17.2->mlflow) (1.2.13)\n",
      "Requirement already satisfied: opentelemetry-semantic-conventions==0.47b0 in d:\\python38\\lib\\site-packages (from opentelemetry-sdk<3,>=1.9.0->mlflow-skinny==2.17.2->mlflow) (0.47b0)\n",
      "Requirement already satisfied: google-auth~=2.0 in d:\\python38\\lib\\site-packages (from databricks-sdk<1,>=0.20.0->mlflow-skinny==2.17.2->mlflow) (2.25.2)\n",
      "Requirement already satisfied: colorama; platform_system == \"Windows\" in d:\\python38\\lib\\site-packages (from click<9,>=7.0->mlflow-skinny==2.17.2->mlflow) (0.4.6)\n",
      "Requirement already satisfied: gitdb<5,>=4.0.1 in d:\\python38\\lib\\site-packages (from gitpython<4,>=3.1.9->mlflow-skinny==2.17.2->mlflow) (4.0.5)\n",
      "Requirement already satisfied: wrapt<2,>=1.10 in d:\\python38\\lib\\site-packages (from deprecated>=1.2.6->opentelemetry-api<3,>=1.9.0->mlflow-skinny==2.17.2->mlflow) (1.12.1)\n",
      "Requirement already satisfied: rsa<5,>=3.1.4 in d:\\python38\\lib\\site-packages (from google-auth~=2.0->databricks-sdk<1,>=0.20.0->mlflow-skinny==2.17.2->mlflow) (4.7.1)\n",
      "Requirement already satisfied: pyasn1-modules>=0.2.1 in d:\\python38\\lib\\site-packages (from google-auth~=2.0->databricks-sdk<1,>=0.20.0->mlflow-skinny==2.17.2->mlflow) (0.2.8)\n",
      "Requirement already satisfied: smmap<4,>=3.0.1 in d:\\python38\\lib\\site-packages (from gitdb<5,>=4.0.1->gitpython<4,>=3.1.9->mlflow-skinny==2.17.2->mlflow) (3.0.5)\n",
      "Requirement already satisfied: pyasn1>=0.1.3 in d:\\python38\\lib\\site-packages (from rsa<5,>=3.1.4->google-auth~=2.0->databricks-sdk<1,>=0.20.0->mlflow-skinny==2.17.2->mlflow) (0.4.8)\n"
     ]
    }
   ],
   "source": [
    "pip install mlflow"
   ]
  },
  {
   "cell_type": "code",
   "execution_count": 86,
   "id": "5e8e5117",
   "metadata": {},
   "outputs": [],
   "source": [
    "import mlflow\n",
    "import mlflow.sklearn"
   ]
  },
  {
   "cell_type": "code",
   "execution_count": 87,
   "id": "c1049aa7",
   "metadata": {},
   "outputs": [
    {
     "data": {
      "text/plain": [
       "{'0': {'precision': 0.7272727272727273,\n",
       "  'recall': 0.6666666666666666,\n",
       "  'f1-score': 0.6956521739130435,\n",
       "  'support': 24.0},\n",
       " '1': {'precision': 0.68,\n",
       "  'recall': 0.7391304347826086,\n",
       "  'f1-score': 0.7083333333333334,\n",
       "  'support': 23.0},\n",
       " 'accuracy': 0.7021276595744681,\n",
       " 'macro avg': {'precision': 0.7036363636363636,\n",
       "  'recall': 0.7028985507246377,\n",
       "  'f1-score': 0.7019927536231885,\n",
       "  'support': 47.0},\n",
       " 'weighted avg': {'precision': 0.7041392649903288,\n",
       "  'recall': 0.7021276595744681,\n",
       "  'f1-score': 0.7018578476719087,\n",
       "  'support': 47.0}}"
      ]
     },
     "execution_count": 87,
     "metadata": {},
     "output_type": "execute_result"
    }
   ],
   "source": [
    "report_dict"
   ]
  },
  {
   "cell_type": "code",
   "execution_count": 89,
   "id": "2cae8878",
   "metadata": {},
   "outputs": [
    {
     "name": "stderr",
     "output_type": "stream",
     "text": [
      "2024/11/22 18:58:51 INFO mlflow.tracking.fluent: Experiment with name 'Rainfall1' does not exist. Creating a new experiment.\n",
      "2024/11/22 18:59:02 WARNING mlflow.models.model: Model logged without a signature and input example. Please set `input_example` parameter when logging the model to auto infer the model signature.\n",
      "2024/11/22 18:59:02 INFO mlflow.tracking._tracking_service.client: 🏃 View run glamorous-jay-132 at: http://127.0.0.1:5000/#/experiments/709938397888051449/runs/d726b84f17224eb7bdbe8b46fcd31bb9.\n",
      "2024/11/22 18:59:02 INFO mlflow.tracking._tracking_service.client: 🧪 View experiment at: http://127.0.0.1:5000/#/experiments/709938397888051449.\n"
     ]
    }
   ],
   "source": [
    "mlflow.set_experiment('Rainfall1')\n",
    "mlflow.set_tracking_uri(uri=\"http://127.0.0.1:5000/\")\n",
    "\n",
    "with mlflow.start_run():\n",
    "    mlflow.log_params(grid_search_rf.best_params_)\n",
    "    mlflow.log_metrics({\n",
    "        \"accuracy\":report_dict['accuracy'], \n",
    "        \"recall_class_0\":report_dict['0']['recall'],\n",
    "        \"recall_class_1\":report_dict['1']['recall'],\n",
    "        \"f1_score_macro\":report_dict['macro avg']['f1-score']\n",
    "    })\n",
    "    \n",
    "    mlflow.sklearn.log_model(best_rf_model, \"Random Forest Model Data\")"
   ]
  },
  {
   "cell_type": "code",
   "execution_count": 92,
   "id": "d1ab08ee",
   "metadata": {},
   "outputs": [
    {
     "name": "stderr",
     "output_type": "stream",
     "text": [
      "Registered model 'Random Forest Model Data' already exists. Creating a new version of this model...\n",
      "2024/11/22 19:02:58 INFO mlflow.store.model_registry.abstract_store: Waiting up to 300 seconds for model version to finish creation. Model name: Random Forest Model Data, version 1\n",
      "Created version '1' of model 'Random Forest Model Data'.\n",
      "2024/11/22 19:02:58 INFO mlflow.tracking._tracking_service.client: 🏃 View run glamorous-jay-132 at: http://127.0.0.1:5000/#/experiments/709938397888051449/runs/d726b84f17224eb7bdbe8b46fcd31bb9.\n",
      "2024/11/22 19:02:58 INFO mlflow.tracking._tracking_service.client: 🧪 View experiment at: http://127.0.0.1:5000/#/experiments/709938397888051449.\n"
     ]
    }
   ],
   "source": [
    "model_name = \"Random Forest Model Data\"\n",
    "run_id = \"d726b84f17224eb7bdbe8b46fcd31bb9\"\n",
    "model_uri = f'runs:/{run_id}/{model_name}'\n",
    "\n",
    "with mlflow.start_run(run_id = run_id):\n",
    "    mlflow.register_model(model_uri=model_uri, name = model_name)"
   ]
  },
  {
   "cell_type": "code",
   "execution_count": 94,
   "id": "43f8c12a",
   "metadata": {},
   "outputs": [
    {
     "data": {
      "application/vnd.jupyter.widget-view+json": {
       "model_id": "7c63cb7276434c66a72b02edc5100e94",
       "version_major": 2,
       "version_minor": 0
      },
      "text/plain": [
       "Downloading artifacts:   0%|          | 0/5 [00:00<?, ?it/s]"
      ]
     },
     "metadata": {},
     "output_type": "display_data"
    },
    {
     "data": {
      "text/plain": [
       "array([1, 0, 1, 1, 0, 1, 0, 1, 1, 1, 0, 0, 0, 1, 1, 0, 0, 0, 0, 0, 1, 1,\n",
       "       1, 1, 0, 0, 0, 0, 1, 1, 0, 1, 0, 0, 0, 1, 1, 1, 0, 1, 0, 1, 1, 0,\n",
       "       1, 1, 1], dtype=int64)"
      ]
     },
     "execution_count": 94,
     "metadata": {},
     "output_type": "execute_result"
    }
   ],
   "source": [
    "import mlflow\n",
    "logged_model = 'runs:/d726b84f17224eb7bdbe8b46fcd31bb9/Random Forest Model Data'\n",
    "\n",
    "# Load model as a PyFuncModel.\n",
    "loaded_model = mlflow.sklearn.load_model(logged_model)\n",
    "\n",
    "loaded_model.predict(X_test)"
   ]
  },
  {
   "cell_type": "code",
   "execution_count": 96,
   "id": "0684dddc",
   "metadata": {},
   "outputs": [
    {
     "data": {
      "text/html": [
       "<style>#sk-container-id-3 {color: black;}#sk-container-id-3 pre{padding: 0;}#sk-container-id-3 div.sk-toggleable {background-color: white;}#sk-container-id-3 label.sk-toggleable__label {cursor: pointer;display: block;width: 100%;margin-bottom: 0;padding: 0.3em;box-sizing: border-box;text-align: center;}#sk-container-id-3 label.sk-toggleable__label-arrow:before {content: \"▸\";float: left;margin-right: 0.25em;color: #696969;}#sk-container-id-3 label.sk-toggleable__label-arrow:hover:before {color: black;}#sk-container-id-3 div.sk-estimator:hover label.sk-toggleable__label-arrow:before {color: black;}#sk-container-id-3 div.sk-toggleable__content {max-height: 0;max-width: 0;overflow: hidden;text-align: left;background-color: #f0f8ff;}#sk-container-id-3 div.sk-toggleable__content pre {margin: 0.2em;color: black;border-radius: 0.25em;background-color: #f0f8ff;}#sk-container-id-3 input.sk-toggleable__control:checked~div.sk-toggleable__content {max-height: 200px;max-width: 100%;overflow: auto;}#sk-container-id-3 input.sk-toggleable__control:checked~label.sk-toggleable__label-arrow:before {content: \"▾\";}#sk-container-id-3 div.sk-estimator input.sk-toggleable__control:checked~label.sk-toggleable__label {background-color: #d4ebff;}#sk-container-id-3 div.sk-label input.sk-toggleable__control:checked~label.sk-toggleable__label {background-color: #d4ebff;}#sk-container-id-3 input.sk-hidden--visually {border: 0;clip: rect(1px 1px 1px 1px);clip: rect(1px, 1px, 1px, 1px);height: 1px;margin: -1px;overflow: hidden;padding: 0;position: absolute;width: 1px;}#sk-container-id-3 div.sk-estimator {font-family: monospace;background-color: #f0f8ff;border: 1px dotted black;border-radius: 0.25em;box-sizing: border-box;margin-bottom: 0.5em;}#sk-container-id-3 div.sk-estimator:hover {background-color: #d4ebff;}#sk-container-id-3 div.sk-parallel-item::after {content: \"\";width: 100%;border-bottom: 1px solid gray;flex-grow: 1;}#sk-container-id-3 div.sk-label:hover label.sk-toggleable__label {background-color: #d4ebff;}#sk-container-id-3 div.sk-serial::before {content: \"\";position: absolute;border-left: 1px solid gray;box-sizing: border-box;top: 0;bottom: 0;left: 50%;z-index: 0;}#sk-container-id-3 div.sk-serial {display: flex;flex-direction: column;align-items: center;background-color: white;padding-right: 0.2em;padding-left: 0.2em;position: relative;}#sk-container-id-3 div.sk-item {position: relative;z-index: 1;}#sk-container-id-3 div.sk-parallel {display: flex;align-items: stretch;justify-content: center;background-color: white;position: relative;}#sk-container-id-3 div.sk-item::before, #sk-container-id-3 div.sk-parallel-item::before {content: \"\";position: absolute;border-left: 1px solid gray;box-sizing: border-box;top: 0;bottom: 0;left: 50%;z-index: -1;}#sk-container-id-3 div.sk-parallel-item {display: flex;flex-direction: column;z-index: 1;position: relative;background-color: white;}#sk-container-id-3 div.sk-parallel-item:first-child::after {align-self: flex-end;width: 50%;}#sk-container-id-3 div.sk-parallel-item:last-child::after {align-self: flex-start;width: 50%;}#sk-container-id-3 div.sk-parallel-item:only-child::after {width: 0;}#sk-container-id-3 div.sk-dashed-wrapped {border: 1px dashed gray;margin: 0 0.4em 0.5em 0.4em;box-sizing: border-box;padding-bottom: 0.4em;background-color: white;}#sk-container-id-3 div.sk-label label {font-family: monospace;font-weight: bold;display: inline-block;line-height: 1.2em;}#sk-container-id-3 div.sk-label-container {text-align: center;}#sk-container-id-3 div.sk-container {/* jupyter's `normalize.less` sets `[hidden] { display: none; }` but bootstrap.min.css set `[hidden] { display: none !important; }` so we also need the `!important` here to be able to override the default hidden behavior on the sphinx rendered scikit-learn.org. See: https://github.com/scikit-learn/scikit-learn/issues/21755 */display: inline-block !important;position: relative;}#sk-container-id-3 div.sk-text-repr-fallback {display: none;}</style><div id=\"sk-container-id-3\" class=\"sk-top-container\"><div class=\"sk-text-repr-fallback\"><pre>RandomForestClassifier(min_samples_leaf=2, min_samples_split=10,\n",
       "                       n_estimators=50, random_state=42)</pre><b>In a Jupyter environment, please rerun this cell to show the HTML representation or trust the notebook. <br />On GitHub, the HTML representation is unable to render, please try loading this page with nbviewer.org.</b></div><div class=\"sk-container\" hidden><div class=\"sk-item\"><div class=\"sk-estimator sk-toggleable\"><input class=\"sk-toggleable__control sk-hidden--visually\" id=\"sk-estimator-id-5\" type=\"checkbox\" checked><label for=\"sk-estimator-id-5\" class=\"sk-toggleable__label sk-toggleable__label-arrow\">RandomForestClassifier</label><div class=\"sk-toggleable__content\"><pre>RandomForestClassifier(min_samples_leaf=2, min_samples_split=10,\n",
       "                       n_estimators=50, random_state=42)</pre></div></div></div></div></div>"
      ],
      "text/plain": [
       "RandomForestClassifier(min_samples_leaf=2, min_samples_split=10,\n",
       "                       n_estimators=50, random_state=42)"
      ]
     },
     "execution_count": 96,
     "metadata": {},
     "output_type": "execute_result"
    }
   ],
   "source": [
    "loaded_model"
   ]
  },
  {
   "cell_type": "code",
   "execution_count": 98,
   "id": "530fac15",
   "metadata": {},
   "outputs": [
    {
     "name": "stderr",
     "output_type": "stream",
     "text": [
      "Successfully registered model 'rainfall-prediction-production'.\n",
      "Copied version '1' of model 'Random Forest Model Data' to version '1' of model 'rainfall-prediction-production'.\n"
     ]
    },
    {
     "data": {
      "text/plain": [
       "<ModelVersion: aliases=[], creation_timestamp=1732280997422, current_stage='None', description='', last_updated_timestamp=1732280997422, name='rainfall-prediction-production', run_id='d726b84f17224eb7bdbe8b46fcd31bb9', run_link='', source='models:/Random Forest Model Data/1', status='READY', status_message='', tags={}, user_id='', version='1'>"
      ]
     },
     "execution_count": 98,
     "metadata": {},
     "output_type": "execute_result"
    }
   ],
   "source": [
    "current_model_uri = f\"models:/{model_name}@challenger\"\n",
    "production_model_name = 'rainfall-prediction-production'\n",
    "\n",
    "client = mlflow.MlflowClient()\n",
    "client.copy_model_version(src_model_uri=current_model_uri, dst_name=production_model_name)"
   ]
  },
  {
   "cell_type": "code",
   "execution_count": 99,
   "id": "bfd6140c",
   "metadata": {},
   "outputs": [
    {
     "data": {
      "application/vnd.jupyter.widget-view+json": {
       "model_id": "5f662ed6f11e421584eb3917e7aa9e6a",
       "version_major": 2,
       "version_minor": 0
      },
      "text/plain": [
       "Downloading artifacts:   0%|          | 0/5 [00:00<?, ?it/s]"
      ]
     },
     "metadata": {},
     "output_type": "display_data"
    }
   ],
   "source": [
    "model_version = 1\n",
    "prod_model_uri = f'models:/{production_model_name}@champion'\n",
    "\n",
    "loaded_model = mlflow.sklearn.load_model(prod_model_uri)\n",
    "y_pred = loaded_model.predict(X_test)"
   ]
  },
  {
   "cell_type": "code",
   "execution_count": 100,
   "id": "cb52e6d5",
   "metadata": {},
   "outputs": [
    {
     "data": {
      "text/plain": [
       "array([1, 0, 1, 1, 0, 1, 0, 1, 1, 1, 0, 0, 0, 1, 1, 0, 0, 0, 0, 0, 1, 1,\n",
       "       1, 1, 0, 0, 0, 0, 1, 1, 0, 1, 0, 0, 0, 1, 1, 1, 0, 1, 0, 1, 1, 0,\n",
       "       1, 1, 1], dtype=int64)"
      ]
     },
     "execution_count": 100,
     "metadata": {},
     "output_type": "execute_result"
    }
   ],
   "source": [
    "y_pred"
   ]
  },
  {
   "cell_type": "code",
   "execution_count": 102,
   "id": "c751f830",
   "metadata": {},
   "outputs": [],
   "source": [
    "# Predictive System\n",
    "input_df = (1015.9, 19.9, 95, 81, 0.0, 40.0, 13.7)\n",
    "input_df = pd.DataFrame([input_df], ['pressure', 'dewpoint', 'humidity', 'cloud', 'sunshine',\n",
    "       'winddirection', 'windspeed'])"
   ]
  },
  {
   "cell_type": "code",
   "execution_count": 103,
   "id": "98b725e9",
   "metadata": {},
   "outputs": [
    {
     "name": "stderr",
     "output_type": "stream",
     "text": [
      "d:\\python38\\lib\\site-packages\\sklearn\\base.py:465: UserWarning: X does not have valid feature names, but RandomForestClassifier was fitted with feature names\n",
      "  warnings.warn(\n"
     ]
    }
   ],
   "source": [
    "prediction = loaded_model.predict(input_df)"
   ]
  },
  {
   "cell_type": "code",
   "execution_count": 105,
   "id": "18335db4",
   "metadata": {},
   "outputs": [
    {
     "name": "stdout",
     "output_type": "stream",
     "text": [
      "Prediction Result:  Rainfall\n"
     ]
    }
   ],
   "source": [
    "print(\"Prediction Result: \", \"Rainfall\" if prediction[0] == 1 else \"No Rainfall\")"
   ]
  },
  {
   "cell_type": "code",
   "execution_count": null,
   "id": "5c55952e",
   "metadata": {},
   "outputs": [],
   "source": []
  }
 ],
 "metadata": {
  "kernelspec": {
   "display_name": "Python 3",
   "language": "python",
   "name": "python3"
  },
  "language_info": {
   "codemirror_mode": {
    "name": "ipython",
    "version": 3
   },
   "file_extension": ".py",
   "mimetype": "text/x-python",
   "name": "python",
   "nbconvert_exporter": "python",
   "pygments_lexer": "ipython3",
   "version": "3.8.5"
  }
 },
 "nbformat": 4,
 "nbformat_minor": 5
}
